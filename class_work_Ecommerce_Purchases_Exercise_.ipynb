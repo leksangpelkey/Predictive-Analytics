{
  "nbformat": 4,
  "nbformat_minor": 0,
  "metadata": {
    "kernelspec": {
      "display_name": "Python 3",
      "language": "python",
      "name": "python3"
    },
    "language_info": {
      "codemirror_mode": {
        "name": "ipython",
        "version": 3
      },
      "file_extension": ".py",
      "mimetype": "text/x-python",
      "name": "python",
      "nbconvert_exporter": "python",
      "pygments_lexer": "ipython3",
      "version": "3.7.3"
    },
    "colab": {
      "name": "class work Ecommerce Purchases Exercise .ipynb",
      "provenance": [],
      "collapsed_sections": [],
      "include_colab_link": true
    }
  },
  "cells": [
    {
      "cell_type": "markdown",
      "metadata": {
        "id": "view-in-github",
        "colab_type": "text"
      },
      "source": [
        "<a href=\"https://colab.research.google.com/github/leksangpelkey/Predictive-Analytics/blob/main/class_work_Ecommerce_Purchases_Exercise_.ipynb\" target=\"_parent\"><img src=\"https://colab.research.google.com/assets/colab-badge.svg\" alt=\"Open In Colab\"/></a>"
      ]
    },
    {
      "cell_type": "markdown",
      "metadata": {
        "id": "fbbYQywFeGz1"
      },
      "source": [
        "# Ecommerce Purchases Exercise\n",
        "\n",
        "In this Exercise you will work with 'Fake Data' about some purchases done through Amazon! Follow the directions on the cells bellow and try your best to answer the questions and complete the tasks. Many of the tasks can be solved in 'different ways'.\n",
        "\n",
        "Do not get discouraged if the exercie does not make \"Real-World\", REMEMBER that all the data is made-up.\n",
        "\n",
        "Also note that all of these questions can be answered with one line of code.\n",
        "____\n",
        "*Import pandas and read in the Ecommerce Purchases csv file and set it to a DataFrame called ecom.*"
      ]
    },
    {
      "cell_type": "code",
      "metadata": {
        "id": "SEmjk8Hzw8BG"
      },
      "source": [
        "import pandas as pd\n",
        "import numpy as np"
      ],
      "execution_count": null,
      "outputs": []
    },
    {
      "cell_type": "code",
      "metadata": {
        "collapsed": true,
        "jupyter": {
          "outputs_hidden": true
        },
        "id": "2A1P9e3GeGz3"
      },
      "source": [
        "econ = pd.read_csv('https://raw.githubusercontent.com/glopez21/ML-Data/main/EcommercePurchases.csv')"
      ],
      "execution_count": null,
      "outputs": []
    },
    {
      "cell_type": "markdown",
      "metadata": {
        "id": "RDG5PYSDeGz4"
      },
      "source": [
        "**Check the head of the DataFrame.**"
      ]
    },
    {
      "cell_type": "code",
      "metadata": {
        "jupyter": {
          "outputs_hidden": false
        },
        "id": "u2K7HypBeGz5",
        "colab": {
          "base_uri": "https://localhost:8080/",
          "height": 389
        },
        "outputId": "dbfdad66-b004-4f4f-e947-26bbbd920f6a"
      },
      "source": [
        "econ.head()"
      ],
      "execution_count": null,
      "outputs": [
        {
          "output_type": "execute_result",
          "data": {
            "text/plain": [
              "                                             Address    Lot AM or PM  \\\n",
              "0  16629 Pace Camp Apt. 448\\nAlexisborough, NE 77...  46 in       PM   \n",
              "1  9374 Jasmine Spurs Suite 508\\nSouth John, TN 8...  28 rn       PM   \n",
              "2                   Unit 0065 Box 5052\\nDPO AP 27450  94 vE       PM   \n",
              "3              7780 Julia Fords\\nNew Stacy, WA 45798  36 vm       PM   \n",
              "4  23012 Munoz Drive Suite 337\\nNew Cynthia, TX 5...  20 IE       AM   \n",
              "\n",
              "                                        Browser Info  \\\n",
              "0  Opera/9.56.(X11; Linux x86_64; sl-SI) Presto/2...   \n",
              "1  Opera/8.93.(Windows 98; Win 9x 4.90; en-US) Pr...   \n",
              "2  Mozilla/5.0 (compatible; MSIE 9.0; Windows NT ...   \n",
              "3  Mozilla/5.0 (Macintosh; Intel Mac OS X 10_8_0 ...   \n",
              "4  Opera/9.58.(X11; Linux x86_64; it-IT) Presto/2...   \n",
              "\n",
              "                           Company       Credit Card CC Exp Date  \\\n",
              "0                  Martinez-Herman  6011929061123406       02/20   \n",
              "1  Fletcher, Richards and Whitaker  3337758169645356       11/18   \n",
              "2       Simpson, Williams and Pham      675957666125       08/19   \n",
              "3  Williams, Marshall and Buchanan  6011578504430710       02/24   \n",
              "4        Brown, Watson and Andrews  6011456623207998       10/25   \n",
              "\n",
              "   CC Security Code                  CC Provider  \\\n",
              "0               900                 JCB 16 digit   \n",
              "1               561                   Mastercard   \n",
              "2               699                 JCB 16 digit   \n",
              "3               384                     Discover   \n",
              "4               678  Diners Club / Carte Blanche   \n",
              "\n",
              "                            Email                                     Job  \\\n",
              "0               pdunlap@yahoo.com  Scientist, product/process development   \n",
              "1              anthony41@reed.com                       Drilling engineer   \n",
              "2  amymiller@morales-harrison.com                Customer service manager   \n",
              "3     brent16@olson-robinson.info                       Drilling engineer   \n",
              "4     christopherwright@gmail.com                             Fine artist   \n",
              "\n",
              "        IP Address Language  Purchase Price  \n",
              "0  149.146.147.205       el           98.14  \n",
              "1     15.160.41.51       fr           70.73  \n",
              "2   132.207.160.22       de            0.95  \n",
              "3     30.250.74.19       es           78.04  \n",
              "4     24.140.33.94       es           77.82  "
            ],
            "text/html": [
              "\n",
              "  <div id=\"df-32bc45e5-388f-45ea-903d-a6e97244677e\">\n",
              "    <div class=\"colab-df-container\">\n",
              "      <div>\n",
              "<style scoped>\n",
              "    .dataframe tbody tr th:only-of-type {\n",
              "        vertical-align: middle;\n",
              "    }\n",
              "\n",
              "    .dataframe tbody tr th {\n",
              "        vertical-align: top;\n",
              "    }\n",
              "\n",
              "    .dataframe thead th {\n",
              "        text-align: right;\n",
              "    }\n",
              "</style>\n",
              "<table border=\"1\" class=\"dataframe\">\n",
              "  <thead>\n",
              "    <tr style=\"text-align: right;\">\n",
              "      <th></th>\n",
              "      <th>Address</th>\n",
              "      <th>Lot</th>\n",
              "      <th>AM or PM</th>\n",
              "      <th>Browser Info</th>\n",
              "      <th>Company</th>\n",
              "      <th>Credit Card</th>\n",
              "      <th>CC Exp Date</th>\n",
              "      <th>CC Security Code</th>\n",
              "      <th>CC Provider</th>\n",
              "      <th>Email</th>\n",
              "      <th>Job</th>\n",
              "      <th>IP Address</th>\n",
              "      <th>Language</th>\n",
              "      <th>Purchase Price</th>\n",
              "    </tr>\n",
              "  </thead>\n",
              "  <tbody>\n",
              "    <tr>\n",
              "      <th>0</th>\n",
              "      <td>16629 Pace Camp Apt. 448\\nAlexisborough, NE 77...</td>\n",
              "      <td>46 in</td>\n",
              "      <td>PM</td>\n",
              "      <td>Opera/9.56.(X11; Linux x86_64; sl-SI) Presto/2...</td>\n",
              "      <td>Martinez-Herman</td>\n",
              "      <td>6011929061123406</td>\n",
              "      <td>02/20</td>\n",
              "      <td>900</td>\n",
              "      <td>JCB 16 digit</td>\n",
              "      <td>pdunlap@yahoo.com</td>\n",
              "      <td>Scientist, product/process development</td>\n",
              "      <td>149.146.147.205</td>\n",
              "      <td>el</td>\n",
              "      <td>98.14</td>\n",
              "    </tr>\n",
              "    <tr>\n",
              "      <th>1</th>\n",
              "      <td>9374 Jasmine Spurs Suite 508\\nSouth John, TN 8...</td>\n",
              "      <td>28 rn</td>\n",
              "      <td>PM</td>\n",
              "      <td>Opera/8.93.(Windows 98; Win 9x 4.90; en-US) Pr...</td>\n",
              "      <td>Fletcher, Richards and Whitaker</td>\n",
              "      <td>3337758169645356</td>\n",
              "      <td>11/18</td>\n",
              "      <td>561</td>\n",
              "      <td>Mastercard</td>\n",
              "      <td>anthony41@reed.com</td>\n",
              "      <td>Drilling engineer</td>\n",
              "      <td>15.160.41.51</td>\n",
              "      <td>fr</td>\n",
              "      <td>70.73</td>\n",
              "    </tr>\n",
              "    <tr>\n",
              "      <th>2</th>\n",
              "      <td>Unit 0065 Box 5052\\nDPO AP 27450</td>\n",
              "      <td>94 vE</td>\n",
              "      <td>PM</td>\n",
              "      <td>Mozilla/5.0 (compatible; MSIE 9.0; Windows NT ...</td>\n",
              "      <td>Simpson, Williams and Pham</td>\n",
              "      <td>675957666125</td>\n",
              "      <td>08/19</td>\n",
              "      <td>699</td>\n",
              "      <td>JCB 16 digit</td>\n",
              "      <td>amymiller@morales-harrison.com</td>\n",
              "      <td>Customer service manager</td>\n",
              "      <td>132.207.160.22</td>\n",
              "      <td>de</td>\n",
              "      <td>0.95</td>\n",
              "    </tr>\n",
              "    <tr>\n",
              "      <th>3</th>\n",
              "      <td>7780 Julia Fords\\nNew Stacy, WA 45798</td>\n",
              "      <td>36 vm</td>\n",
              "      <td>PM</td>\n",
              "      <td>Mozilla/5.0 (Macintosh; Intel Mac OS X 10_8_0 ...</td>\n",
              "      <td>Williams, Marshall and Buchanan</td>\n",
              "      <td>6011578504430710</td>\n",
              "      <td>02/24</td>\n",
              "      <td>384</td>\n",
              "      <td>Discover</td>\n",
              "      <td>brent16@olson-robinson.info</td>\n",
              "      <td>Drilling engineer</td>\n",
              "      <td>30.250.74.19</td>\n",
              "      <td>es</td>\n",
              "      <td>78.04</td>\n",
              "    </tr>\n",
              "    <tr>\n",
              "      <th>4</th>\n",
              "      <td>23012 Munoz Drive Suite 337\\nNew Cynthia, TX 5...</td>\n",
              "      <td>20 IE</td>\n",
              "      <td>AM</td>\n",
              "      <td>Opera/9.58.(X11; Linux x86_64; it-IT) Presto/2...</td>\n",
              "      <td>Brown, Watson and Andrews</td>\n",
              "      <td>6011456623207998</td>\n",
              "      <td>10/25</td>\n",
              "      <td>678</td>\n",
              "      <td>Diners Club / Carte Blanche</td>\n",
              "      <td>christopherwright@gmail.com</td>\n",
              "      <td>Fine artist</td>\n",
              "      <td>24.140.33.94</td>\n",
              "      <td>es</td>\n",
              "      <td>77.82</td>\n",
              "    </tr>\n",
              "  </tbody>\n",
              "</table>\n",
              "</div>\n",
              "      <button class=\"colab-df-convert\" onclick=\"convertToInteractive('df-32bc45e5-388f-45ea-903d-a6e97244677e')\"\n",
              "              title=\"Convert this dataframe to an interactive table.\"\n",
              "              style=\"display:none;\">\n",
              "        \n",
              "  <svg xmlns=\"http://www.w3.org/2000/svg\" height=\"24px\"viewBox=\"0 0 24 24\"\n",
              "       width=\"24px\">\n",
              "    <path d=\"M0 0h24v24H0V0z\" fill=\"none\"/>\n",
              "    <path d=\"M18.56 5.44l.94 2.06.94-2.06 2.06-.94-2.06-.94-.94-2.06-.94 2.06-2.06.94zm-11 1L8.5 8.5l.94-2.06 2.06-.94-2.06-.94L8.5 2.5l-.94 2.06-2.06.94zm10 10l.94 2.06.94-2.06 2.06-.94-2.06-.94-.94-2.06-.94 2.06-2.06.94z\"/><path d=\"M17.41 7.96l-1.37-1.37c-.4-.4-.92-.59-1.43-.59-.52 0-1.04.2-1.43.59L10.3 9.45l-7.72 7.72c-.78.78-.78 2.05 0 2.83L4 21.41c.39.39.9.59 1.41.59.51 0 1.02-.2 1.41-.59l7.78-7.78 2.81-2.81c.8-.78.8-2.07 0-2.86zM5.41 20L4 18.59l7.72-7.72 1.47 1.35L5.41 20z\"/>\n",
              "  </svg>\n",
              "      </button>\n",
              "      \n",
              "  <style>\n",
              "    .colab-df-container {\n",
              "      display:flex;\n",
              "      flex-wrap:wrap;\n",
              "      gap: 12px;\n",
              "    }\n",
              "\n",
              "    .colab-df-convert {\n",
              "      background-color: #E8F0FE;\n",
              "      border: none;\n",
              "      border-radius: 50%;\n",
              "      cursor: pointer;\n",
              "      display: none;\n",
              "      fill: #1967D2;\n",
              "      height: 32px;\n",
              "      padding: 0 0 0 0;\n",
              "      width: 32px;\n",
              "    }\n",
              "\n",
              "    .colab-df-convert:hover {\n",
              "      background-color: #E2EBFA;\n",
              "      box-shadow: 0px 1px 2px rgba(60, 64, 67, 0.3), 0px 1px 3px 1px rgba(60, 64, 67, 0.15);\n",
              "      fill: #174EA6;\n",
              "    }\n",
              "\n",
              "    [theme=dark] .colab-df-convert {\n",
              "      background-color: #3B4455;\n",
              "      fill: #D2E3FC;\n",
              "    }\n",
              "\n",
              "    [theme=dark] .colab-df-convert:hover {\n",
              "      background-color: #434B5C;\n",
              "      box-shadow: 0px 1px 3px 1px rgba(0, 0, 0, 0.15);\n",
              "      filter: drop-shadow(0px 1px 2px rgba(0, 0, 0, 0.3));\n",
              "      fill: #FFFFFF;\n",
              "    }\n",
              "  </style>\n",
              "\n",
              "      <script>\n",
              "        const buttonEl =\n",
              "          document.querySelector('#df-32bc45e5-388f-45ea-903d-a6e97244677e button.colab-df-convert');\n",
              "        buttonEl.style.display =\n",
              "          google.colab.kernel.accessAllowed ? 'block' : 'none';\n",
              "\n",
              "        async function convertToInteractive(key) {\n",
              "          const element = document.querySelector('#df-32bc45e5-388f-45ea-903d-a6e97244677e');\n",
              "          const dataTable =\n",
              "            await google.colab.kernel.invokeFunction('convertToInteractive',\n",
              "                                                     [key], {});\n",
              "          if (!dataTable) return;\n",
              "\n",
              "          const docLinkHtml = 'Like what you see? Visit the ' +\n",
              "            '<a target=\"_blank\" href=https://colab.research.google.com/notebooks/data_table.ipynb>data table notebook</a>'\n",
              "            + ' to learn more about interactive tables.';\n",
              "          element.innerHTML = '';\n",
              "          dataTable['output_type'] = 'display_data';\n",
              "          await google.colab.output.renderOutput(dataTable, element);\n",
              "          const docLink = document.createElement('div');\n",
              "          docLink.innerHTML = docLinkHtml;\n",
              "          element.appendChild(docLink);\n",
              "        }\n",
              "      </script>\n",
              "    </div>\n",
              "  </div>\n",
              "  "
            ]
          },
          "metadata": {},
          "execution_count": 3
        }
      ]
    },
    {
      "cell_type": "markdown",
      "metadata": {
        "id": "5kr6tLTFeGz6"
      },
      "source": [
        "*How many rows and columns are there?*"
      ]
    },
    {
      "cell_type": "code",
      "metadata": {
        "jupyter": {
          "outputs_hidden": false
        },
        "id": "4GcjD26_eGz7",
        "colab": {
          "base_uri": "https://localhost:8080/"
        },
        "outputId": "708c26b5-0fdd-4893-b68f-c4dc25669b0e"
      },
      "source": [
        "econ.shape"
      ],
      "execution_count": null,
      "outputs": [
        {
          "output_type": "execute_result",
          "data": {
            "text/plain": [
              "(10000, 14)"
            ]
          },
          "metadata": {},
          "execution_count": 5
        }
      ]
    },
    {
      "cell_type": "markdown",
      "metadata": {
        "id": "H347HqLAeGz7"
      },
      "source": [
        "*What is the average Purchase Price?*"
      ]
    },
    {
      "cell_type": "code",
      "metadata": {
        "jupyter": {
          "outputs_hidden": false
        },
        "id": "3wKeWHn_eGz8",
        "colab": {
          "base_uri": "https://localhost:8080/"
        },
        "outputId": "288ec62e-b18c-4bdb-b33e-b72b36e122a9"
      },
      "source": [
        "econ['Purchase Price'].mean()"
      ],
      "execution_count": null,
      "outputs": [
        {
          "output_type": "execute_result",
          "data": {
            "text/plain": [
              "50.34730200000025"
            ]
          },
          "metadata": {},
          "execution_count": 6
        }
      ]
    },
    {
      "cell_type": "markdown",
      "metadata": {
        "id": "AZGP7FrMeGz9"
      },
      "source": [
        "*What were the highest and lowest purchase prices?*"
      ]
    },
    {
      "cell_type": "code",
      "metadata": {
        "jupyter": {
          "outputs_hidden": false
        },
        "id": "bWKNtSw1eGz9"
      },
      "source": [
        "Highest_purchase_price = econ['Purchase Price'].max()"
      ],
      "execution_count": null,
      "outputs": []
    },
    {
      "cell_type": "code",
      "metadata": {
        "jupyter": {
          "outputs_hidden": false
        },
        "id": "tZkMr3nReGz9",
        "colab": {
          "base_uri": "https://localhost:8080/"
        },
        "outputId": "ddb60a49-1bad-4fc7-9979-88ce0ab8c1b9"
      },
      "source": [
        "Highest_purchase_price"
      ],
      "execution_count": null,
      "outputs": [
        {
          "output_type": "execute_result",
          "data": {
            "text/plain": [
              "99.99"
            ]
          },
          "metadata": {},
          "execution_count": 11
        }
      ]
    },
    {
      "cell_type": "code",
      "source": [
        "Lowest_purchase_price = econ['Purchase Price'].min()"
      ],
      "metadata": {
        "id": "gpDXu_O9JYP2"
      },
      "execution_count": null,
      "outputs": []
    },
    {
      "cell_type": "code",
      "source": [
        "Lowest_purchase_price"
      ],
      "metadata": {
        "colab": {
          "base_uri": "https://localhost:8080/"
        },
        "id": "s9eLG_2ZJice",
        "outputId": "453833c4-f3ec-43f2-c7a0-48cb61bb9b8e"
      },
      "execution_count": null,
      "outputs": [
        {
          "output_type": "execute_result",
          "data": {
            "text/plain": [
              "0.0"
            ]
          },
          "metadata": {},
          "execution_count": 13
        }
      ]
    },
    {
      "cell_type": "markdown",
      "metadata": {
        "id": "cxeCIXiUeGz-"
      },
      "source": [
        "*How many people have English 'en' as their Language of choice on the website?*"
      ]
    },
    {
      "cell_type": "code",
      "metadata": {
        "jupyter": {
          "outputs_hidden": false
        },
        "id": "d3exf5sAeGz-"
      },
      "source": [
        "english = econ[(econ['Language']=='en')].value_counts()"
      ],
      "execution_count": null,
      "outputs": []
    },
    {
      "cell_type": "code",
      "metadata": {
        "id": "IvJgQ-Ct0hmD",
        "colab": {
          "base_uri": "https://localhost:8080/"
        },
        "outputId": "7fc5be28-7e42-447e-899c-af9ee463bbcd"
      },
      "source": [
        "english.count()"
      ],
      "execution_count": null,
      "outputs": [
        {
          "output_type": "execute_result",
          "data": {
            "text/plain": [
              "1098"
            ]
          },
          "metadata": {},
          "execution_count": 15
        }
      ]
    },
    {
      "cell_type": "markdown",
      "metadata": {
        "id": "Rb_jA2u7eGz_"
      },
      "source": [
        "*How many people have the job title of \"Lawyer\" ?*\n"
      ]
    },
    {
      "cell_type": "code",
      "metadata": {
        "jupyter": {
          "outputs_hidden": false
        },
        "id": "IiTuxjuVeGz_"
      },
      "source": [
        "lawyer = econ[(econ['Job']=='Lawyer')].value_counts()"
      ],
      "execution_count": null,
      "outputs": []
    },
    {
      "cell_type": "code",
      "metadata": {
        "id": "cefjHxuN1RlV",
        "colab": {
          "base_uri": "https://localhost:8080/"
        },
        "outputId": "04abaf33-10c5-42e2-d696-259573412d4d"
      },
      "source": [
        "lawyer.count()"
      ],
      "execution_count": null,
      "outputs": [
        {
          "output_type": "execute_result",
          "data": {
            "text/plain": [
              "30"
            ]
          },
          "metadata": {},
          "execution_count": 17
        }
      ]
    },
    {
      "cell_type": "markdown",
      "metadata": {
        "id": "52f6zZe-eG0A"
      },
      "source": [
        "*How many people made the purchase during the AM and how many people made the purchase during PM ?*\n",
        "\n",
        "*(Hint: Check out [value_counts()](http://pandas.pydata.org/pandas-docs/stable/generated/pandas.Series.value_counts.html) )*"
      ]
    },
    {
      "cell_type": "code",
      "metadata": {
        "id": "SPBkhEa02BNK",
        "colab": {
          "base_uri": "https://localhost:8080/"
        },
        "outputId": "51500db6-cd2e-44c5-b9cf-26b18ee7d571"
      },
      "source": [
        "econ['AM or PM'].value_counts()"
      ],
      "execution_count": null,
      "outputs": [
        {
          "output_type": "execute_result",
          "data": {
            "text/plain": [
              "PM    5068\n",
              "AM    4932\n",
              "Name: AM or PM, dtype: int64"
            ]
          },
          "metadata": {},
          "execution_count": 20
        }
      ]
    },
    {
      "cell_type": "markdown",
      "metadata": {
        "id": "rH-Ul1JgeG0A"
      },
      "source": [
        "*What are the 5 most common Job Titles?*"
      ]
    },
    {
      "cell_type": "code",
      "metadata": {
        "jupyter": {
          "outputs_hidden": false
        },
        "id": "_oUqgJrWeG0B",
        "colab": {
          "base_uri": "https://localhost:8080/"
        },
        "outputId": "277478f9-0ca4-4476-feca-3f5c894f541b"
      },
      "source": [
        "common_job = econ['Job'].value_counts().nlargest(5)\n",
        "common_job"
      ],
      "execution_count": null,
      "outputs": [
        {
          "output_type": "execute_result",
          "data": {
            "text/plain": [
              "Interior and spatial designer    31\n",
              "Lawyer                           30\n",
              "Social researcher                28\n",
              "Purchasing manager               27\n",
              "Designer, jewellery              27\n",
              "Name: Job, dtype: int64"
            ]
          },
          "metadata": {},
          "execution_count": 26
        }
      ]
    },
    {
      "cell_type": "markdown",
      "metadata": {
        "id": "k7o-K9KHeG0B"
      },
      "source": [
        "*Someone made a purchase that came from Lot: \"90 WT\" , what was the Purchase Price for this transaction?*"
      ]
    },
    {
      "cell_type": "code",
      "metadata": {
        "jupyter": {
          "outputs_hidden": false
        },
        "id": "Rv4DXr0DeG0B",
        "colab": {
          "base_uri": "https://localhost:8080/"
        },
        "outputId": "a3b3dbb7-e1ab-4a59-9fb7-7cc3fee98473"
      },
      "source": [
        "purchase_price = econ[(econ['Lot']=='90 WT')]\n",
        "purchase_price['Purchase Price']"
      ],
      "execution_count": null,
      "outputs": [
        {
          "output_type": "execute_result",
          "data": {
            "text/plain": [
              "513    75.1\n",
              "Name: Purchase Price, dtype: float64"
            ]
          },
          "metadata": {},
          "execution_count": 29
        }
      ]
    },
    {
      "cell_type": "markdown",
      "metadata": {
        "id": "y19W0gJeeG0C"
      },
      "source": [
        "*What is the email of the person with the following Credit Card Number: 4926535242672853*"
      ]
    },
    {
      "cell_type": "code",
      "metadata": {
        "jupyter": {
          "outputs_hidden": false
        },
        "id": "jaXPp3hteG0C",
        "colab": {
          "base_uri": "https://localhost:8080/"
        },
        "outputId": "e0f5f9da-a3eb-4f7f-bae2-fdb8057b2cba"
      },
      "source": [
        "email = econ[(econ['Credit Card']==4926535242672853)]\n",
        "email['Email']"
      ],
      "execution_count": null,
      "outputs": [
        {
          "output_type": "execute_result",
          "data": {
            "text/plain": [
              "1234    bondellen@williams-garza.com\n",
              "Name: Email, dtype: object"
            ]
          },
          "metadata": {},
          "execution_count": 31
        }
      ]
    },
    {
      "cell_type": "markdown",
      "metadata": {
        "id": "tj7QNKYreG0C"
      },
      "source": [
        "*How many people have American Express as their Credit Card Provider and made a purchase above $95 ?*"
      ]
    },
    {
      "cell_type": "code",
      "metadata": {
        "jupyter": {
          "outputs_hidden": false
        },
        "id": "2MGRNzvDeG0C"
      },
      "source": [
        "people = econ[((econ['CC Provider']=='American Express'))&(econ['Purchase Price']>95)].value_counts()"
      ],
      "execution_count": null,
      "outputs": []
    },
    {
      "cell_type": "code",
      "metadata": {
        "id": "Y5QlaosK3aPQ",
        "colab": {
          "base_uri": "https://localhost:8080/"
        },
        "outputId": "71c0cbb9-287c-4a99-c163-c8390f596286"
      },
      "source": [
        "people.count()"
      ],
      "execution_count": null,
      "outputs": [
        {
          "output_type": "execute_result",
          "data": {
            "text/plain": [
              "39"
            ]
          },
          "metadata": {},
          "execution_count": 34
        }
      ]
    },
    {
      "cell_type": "markdown",
      "metadata": {
        "id": "EwTzWNnMeG0D"
      },
      "source": [
        "*Hard: How many people have a credit card that expires in 2025?*"
      ]
    },
    {
      "cell_type": "code",
      "source": [
        "econ[econ['CC Exp Date'].apply(lambda x:x[3:])=='25'].count()"
      ],
      "metadata": {
        "id": "apmOhatwPqU1",
        "outputId": "9fa0f348-a879-421c-d523-4a880519bfd8",
        "colab": {
          "base_uri": "https://localhost:8080/"
        }
      },
      "execution_count": null,
      "outputs": [
        {
          "output_type": "execute_result",
          "data": {
            "text/plain": [
              "Address             1033\n",
              "Lot                 1033\n",
              "AM or PM            1033\n",
              "Browser Info        1033\n",
              "Company             1033\n",
              "Credit Card         1033\n",
              "CC Exp Date         1033\n",
              "CC Security Code    1033\n",
              "CC Provider         1033\n",
              "Email               1033\n",
              "Job                 1033\n",
              "IP Address          1033\n",
              "Language            1033\n",
              "Purchase Price      1033\n",
              "Year                1033\n",
              "dtype: int64"
            ]
          },
          "metadata": {},
          "execution_count": 58
        }
      ]
    },
    {
      "cell_type": "code",
      "metadata": {
        "jupyter": {
          "outputs_hidden": false
        },
        "id": "2xKC2jr0eG0D"
      },
      "source": [
        "econ['Year'] = econ['CC Exp Date'].str[3:5]"
      ],
      "execution_count": null,
      "outputs": []
    },
    {
      "cell_type": "code",
      "source": [
        "econ.groupby(['Year']).count()"
      ],
      "metadata": {
        "colab": {
          "base_uri": "https://localhost:8080/",
          "height": 426
        },
        "id": "frta-numN1iq",
        "outputId": "bd4ba39e-5584-4567-a7b0-f5bfef3dd21b"
      },
      "execution_count": null,
      "outputs": [
        {
          "output_type": "execute_result",
          "data": {
            "text/plain": [
              "      Address   Lot  AM or PM  Browser Info  Company  Credit Card  \\\n",
              "Year                                                                \n",
              "16        376   376       376           376      376          376   \n",
              "17        955   955       955           955      955          955   \n",
              "18        995   995       995           995      995          995   \n",
              "19        995   995       995           995      995          995   \n",
              "20        988   988       988           988      988          988   \n",
              "21       1006  1006      1006          1006     1006         1006   \n",
              "22        996   996       996           996      996          996   \n",
              "23       1010  1010      1010          1010     1010         1010   \n",
              "24        992   992       992           992      992          992   \n",
              "25       1033  1033      1033          1033     1033         1033   \n",
              "26        654   654       654           654      654          654   \n",
              "\n",
              "      CC Exp Date  CC Security Code  CC Provider  Email   Job  IP Address  \\\n",
              "Year                                                                        \n",
              "16            376               376          376    376   376         376   \n",
              "17            955               955          955    955   955         955   \n",
              "18            995               995          995    995   995         995   \n",
              "19            995               995          995    995   995         995   \n",
              "20            988               988          988    988   988         988   \n",
              "21           1006              1006         1006   1006  1006        1006   \n",
              "22            996               996          996    996   996         996   \n",
              "23           1010              1010         1010   1010  1010        1010   \n",
              "24            992               992          992    992   992         992   \n",
              "25           1033              1033         1033   1033  1033        1033   \n",
              "26            654               654          654    654   654         654   \n",
              "\n",
              "      Language  Purchase Price  \n",
              "Year                            \n",
              "16         376             376  \n",
              "17         955             955  \n",
              "18         995             995  \n",
              "19         995             995  \n",
              "20         988             988  \n",
              "21        1006            1006  \n",
              "22         996             996  \n",
              "23        1010            1010  \n",
              "24         992             992  \n",
              "25        1033            1033  \n",
              "26         654             654  "
            ],
            "text/html": [
              "\n",
              "  <div id=\"df-0f0a9f34-2755-446d-83cb-44c1ef8c4207\">\n",
              "    <div class=\"colab-df-container\">\n",
              "      <div>\n",
              "<style scoped>\n",
              "    .dataframe tbody tr th:only-of-type {\n",
              "        vertical-align: middle;\n",
              "    }\n",
              "\n",
              "    .dataframe tbody tr th {\n",
              "        vertical-align: top;\n",
              "    }\n",
              "\n",
              "    .dataframe thead th {\n",
              "        text-align: right;\n",
              "    }\n",
              "</style>\n",
              "<table border=\"1\" class=\"dataframe\">\n",
              "  <thead>\n",
              "    <tr style=\"text-align: right;\">\n",
              "      <th></th>\n",
              "      <th>Address</th>\n",
              "      <th>Lot</th>\n",
              "      <th>AM or PM</th>\n",
              "      <th>Browser Info</th>\n",
              "      <th>Company</th>\n",
              "      <th>Credit Card</th>\n",
              "      <th>CC Exp Date</th>\n",
              "      <th>CC Security Code</th>\n",
              "      <th>CC Provider</th>\n",
              "      <th>Email</th>\n",
              "      <th>Job</th>\n",
              "      <th>IP Address</th>\n",
              "      <th>Language</th>\n",
              "      <th>Purchase Price</th>\n",
              "    </tr>\n",
              "    <tr>\n",
              "      <th>Year</th>\n",
              "      <th></th>\n",
              "      <th></th>\n",
              "      <th></th>\n",
              "      <th></th>\n",
              "      <th></th>\n",
              "      <th></th>\n",
              "      <th></th>\n",
              "      <th></th>\n",
              "      <th></th>\n",
              "      <th></th>\n",
              "      <th></th>\n",
              "      <th></th>\n",
              "      <th></th>\n",
              "      <th></th>\n",
              "    </tr>\n",
              "  </thead>\n",
              "  <tbody>\n",
              "    <tr>\n",
              "      <th>16</th>\n",
              "      <td>376</td>\n",
              "      <td>376</td>\n",
              "      <td>376</td>\n",
              "      <td>376</td>\n",
              "      <td>376</td>\n",
              "      <td>376</td>\n",
              "      <td>376</td>\n",
              "      <td>376</td>\n",
              "      <td>376</td>\n",
              "      <td>376</td>\n",
              "      <td>376</td>\n",
              "      <td>376</td>\n",
              "      <td>376</td>\n",
              "      <td>376</td>\n",
              "    </tr>\n",
              "    <tr>\n",
              "      <th>17</th>\n",
              "      <td>955</td>\n",
              "      <td>955</td>\n",
              "      <td>955</td>\n",
              "      <td>955</td>\n",
              "      <td>955</td>\n",
              "      <td>955</td>\n",
              "      <td>955</td>\n",
              "      <td>955</td>\n",
              "      <td>955</td>\n",
              "      <td>955</td>\n",
              "      <td>955</td>\n",
              "      <td>955</td>\n",
              "      <td>955</td>\n",
              "      <td>955</td>\n",
              "    </tr>\n",
              "    <tr>\n",
              "      <th>18</th>\n",
              "      <td>995</td>\n",
              "      <td>995</td>\n",
              "      <td>995</td>\n",
              "      <td>995</td>\n",
              "      <td>995</td>\n",
              "      <td>995</td>\n",
              "      <td>995</td>\n",
              "      <td>995</td>\n",
              "      <td>995</td>\n",
              "      <td>995</td>\n",
              "      <td>995</td>\n",
              "      <td>995</td>\n",
              "      <td>995</td>\n",
              "      <td>995</td>\n",
              "    </tr>\n",
              "    <tr>\n",
              "      <th>19</th>\n",
              "      <td>995</td>\n",
              "      <td>995</td>\n",
              "      <td>995</td>\n",
              "      <td>995</td>\n",
              "      <td>995</td>\n",
              "      <td>995</td>\n",
              "      <td>995</td>\n",
              "      <td>995</td>\n",
              "      <td>995</td>\n",
              "      <td>995</td>\n",
              "      <td>995</td>\n",
              "      <td>995</td>\n",
              "      <td>995</td>\n",
              "      <td>995</td>\n",
              "    </tr>\n",
              "    <tr>\n",
              "      <th>20</th>\n",
              "      <td>988</td>\n",
              "      <td>988</td>\n",
              "      <td>988</td>\n",
              "      <td>988</td>\n",
              "      <td>988</td>\n",
              "      <td>988</td>\n",
              "      <td>988</td>\n",
              "      <td>988</td>\n",
              "      <td>988</td>\n",
              "      <td>988</td>\n",
              "      <td>988</td>\n",
              "      <td>988</td>\n",
              "      <td>988</td>\n",
              "      <td>988</td>\n",
              "    </tr>\n",
              "    <tr>\n",
              "      <th>21</th>\n",
              "      <td>1006</td>\n",
              "      <td>1006</td>\n",
              "      <td>1006</td>\n",
              "      <td>1006</td>\n",
              "      <td>1006</td>\n",
              "      <td>1006</td>\n",
              "      <td>1006</td>\n",
              "      <td>1006</td>\n",
              "      <td>1006</td>\n",
              "      <td>1006</td>\n",
              "      <td>1006</td>\n",
              "      <td>1006</td>\n",
              "      <td>1006</td>\n",
              "      <td>1006</td>\n",
              "    </tr>\n",
              "    <tr>\n",
              "      <th>22</th>\n",
              "      <td>996</td>\n",
              "      <td>996</td>\n",
              "      <td>996</td>\n",
              "      <td>996</td>\n",
              "      <td>996</td>\n",
              "      <td>996</td>\n",
              "      <td>996</td>\n",
              "      <td>996</td>\n",
              "      <td>996</td>\n",
              "      <td>996</td>\n",
              "      <td>996</td>\n",
              "      <td>996</td>\n",
              "      <td>996</td>\n",
              "      <td>996</td>\n",
              "    </tr>\n",
              "    <tr>\n",
              "      <th>23</th>\n",
              "      <td>1010</td>\n",
              "      <td>1010</td>\n",
              "      <td>1010</td>\n",
              "      <td>1010</td>\n",
              "      <td>1010</td>\n",
              "      <td>1010</td>\n",
              "      <td>1010</td>\n",
              "      <td>1010</td>\n",
              "      <td>1010</td>\n",
              "      <td>1010</td>\n",
              "      <td>1010</td>\n",
              "      <td>1010</td>\n",
              "      <td>1010</td>\n",
              "      <td>1010</td>\n",
              "    </tr>\n",
              "    <tr>\n",
              "      <th>24</th>\n",
              "      <td>992</td>\n",
              "      <td>992</td>\n",
              "      <td>992</td>\n",
              "      <td>992</td>\n",
              "      <td>992</td>\n",
              "      <td>992</td>\n",
              "      <td>992</td>\n",
              "      <td>992</td>\n",
              "      <td>992</td>\n",
              "      <td>992</td>\n",
              "      <td>992</td>\n",
              "      <td>992</td>\n",
              "      <td>992</td>\n",
              "      <td>992</td>\n",
              "    </tr>\n",
              "    <tr>\n",
              "      <th>25</th>\n",
              "      <td>1033</td>\n",
              "      <td>1033</td>\n",
              "      <td>1033</td>\n",
              "      <td>1033</td>\n",
              "      <td>1033</td>\n",
              "      <td>1033</td>\n",
              "      <td>1033</td>\n",
              "      <td>1033</td>\n",
              "      <td>1033</td>\n",
              "      <td>1033</td>\n",
              "      <td>1033</td>\n",
              "      <td>1033</td>\n",
              "      <td>1033</td>\n",
              "      <td>1033</td>\n",
              "    </tr>\n",
              "    <tr>\n",
              "      <th>26</th>\n",
              "      <td>654</td>\n",
              "      <td>654</td>\n",
              "      <td>654</td>\n",
              "      <td>654</td>\n",
              "      <td>654</td>\n",
              "      <td>654</td>\n",
              "      <td>654</td>\n",
              "      <td>654</td>\n",
              "      <td>654</td>\n",
              "      <td>654</td>\n",
              "      <td>654</td>\n",
              "      <td>654</td>\n",
              "      <td>654</td>\n",
              "      <td>654</td>\n",
              "    </tr>\n",
              "  </tbody>\n",
              "</table>\n",
              "</div>\n",
              "      <button class=\"colab-df-convert\" onclick=\"convertToInteractive('df-0f0a9f34-2755-446d-83cb-44c1ef8c4207')\"\n",
              "              title=\"Convert this dataframe to an interactive table.\"\n",
              "              style=\"display:none;\">\n",
              "        \n",
              "  <svg xmlns=\"http://www.w3.org/2000/svg\" height=\"24px\"viewBox=\"0 0 24 24\"\n",
              "       width=\"24px\">\n",
              "    <path d=\"M0 0h24v24H0V0z\" fill=\"none\"/>\n",
              "    <path d=\"M18.56 5.44l.94 2.06.94-2.06 2.06-.94-2.06-.94-.94-2.06-.94 2.06-2.06.94zm-11 1L8.5 8.5l.94-2.06 2.06-.94-2.06-.94L8.5 2.5l-.94 2.06-2.06.94zm10 10l.94 2.06.94-2.06 2.06-.94-2.06-.94-.94-2.06-.94 2.06-2.06.94z\"/><path d=\"M17.41 7.96l-1.37-1.37c-.4-.4-.92-.59-1.43-.59-.52 0-1.04.2-1.43.59L10.3 9.45l-7.72 7.72c-.78.78-.78 2.05 0 2.83L4 21.41c.39.39.9.59 1.41.59.51 0 1.02-.2 1.41-.59l7.78-7.78 2.81-2.81c.8-.78.8-2.07 0-2.86zM5.41 20L4 18.59l7.72-7.72 1.47 1.35L5.41 20z\"/>\n",
              "  </svg>\n",
              "      </button>\n",
              "      \n",
              "  <style>\n",
              "    .colab-df-container {\n",
              "      display:flex;\n",
              "      flex-wrap:wrap;\n",
              "      gap: 12px;\n",
              "    }\n",
              "\n",
              "    .colab-df-convert {\n",
              "      background-color: #E8F0FE;\n",
              "      border: none;\n",
              "      border-radius: 50%;\n",
              "      cursor: pointer;\n",
              "      display: none;\n",
              "      fill: #1967D2;\n",
              "      height: 32px;\n",
              "      padding: 0 0 0 0;\n",
              "      width: 32px;\n",
              "    }\n",
              "\n",
              "    .colab-df-convert:hover {\n",
              "      background-color: #E2EBFA;\n",
              "      box-shadow: 0px 1px 2px rgba(60, 64, 67, 0.3), 0px 1px 3px 1px rgba(60, 64, 67, 0.15);\n",
              "      fill: #174EA6;\n",
              "    }\n",
              "\n",
              "    [theme=dark] .colab-df-convert {\n",
              "      background-color: #3B4455;\n",
              "      fill: #D2E3FC;\n",
              "    }\n",
              "\n",
              "    [theme=dark] .colab-df-convert:hover {\n",
              "      background-color: #434B5C;\n",
              "      box-shadow: 0px 1px 3px 1px rgba(0, 0, 0, 0.15);\n",
              "      filter: drop-shadow(0px 1px 2px rgba(0, 0, 0, 0.3));\n",
              "      fill: #FFFFFF;\n",
              "    }\n",
              "  </style>\n",
              "\n",
              "      <script>\n",
              "        const buttonEl =\n",
              "          document.querySelector('#df-0f0a9f34-2755-446d-83cb-44c1ef8c4207 button.colab-df-convert');\n",
              "        buttonEl.style.display =\n",
              "          google.colab.kernel.accessAllowed ? 'block' : 'none';\n",
              "\n",
              "        async function convertToInteractive(key) {\n",
              "          const element = document.querySelector('#df-0f0a9f34-2755-446d-83cb-44c1ef8c4207');\n",
              "          const dataTable =\n",
              "            await google.colab.kernel.invokeFunction('convertToInteractive',\n",
              "                                                     [key], {});\n",
              "          if (!dataTable) return;\n",
              "\n",
              "          const docLinkHtml = 'Like what you see? Visit the ' +\n",
              "            '<a target=\"_blank\" href=https://colab.research.google.com/notebooks/data_table.ipynb>data table notebook</a>'\n",
              "            + ' to learn more about interactive tables.';\n",
              "          element.innerHTML = '';\n",
              "          dataTable['output_type'] = 'display_data';\n",
              "          await google.colab.output.renderOutput(dataTable, element);\n",
              "          const docLink = document.createElement('div');\n",
              "          docLink.innerHTML = docLinkHtml;\n",
              "          element.appendChild(docLink);\n",
              "        }\n",
              "      </script>\n",
              "    </div>\n",
              "  </div>\n",
              "  "
            ]
          },
          "metadata": {},
          "execution_count": 50
        }
      ]
    },
    {
      "cell_type": "code",
      "metadata": {
        "id": "L-k1JyjY4wtX",
        "colab": {
          "base_uri": "https://localhost:8080/"
        },
        "outputId": "89c55a80-b97c-41b0-c909-06410a68b73c"
      },
      "source": [
        "\n",
        "#expire_2025 = econ[(econ['Year']==25)].value_counts()\n",
        "#expire_2025.count()"
      ],
      "execution_count": null,
      "outputs": [
        {
          "output_type": "execute_result",
          "data": {
            "text/plain": [
              "0"
            ]
          },
          "metadata": {},
          "execution_count": 57
        }
      ]
    },
    {
      "cell_type": "markdown",
      "metadata": {
        "id": "pz9cLaYeeG0D"
      },
      "source": [
        "*Hard: What are the top 5 most popular email providers/hosts (e.g. gmail.com, yahoo.com, etc...)*"
      ]
    },
    {
      "cell_type": "code",
      "metadata": {
        "jupyter": {
          "outputs_hidden": false
        },
        "id": "OI2STEeveG0D",
        "colab": {
          "base_uri": "https://localhost:8080/"
        },
        "outputId": "4ba67754-7c4a-44f7-92f5-1be5c13ddb80"
      },
      "source": [
        "econ['Email'].apply(lambda email:email.split('@')[1]).value_counts().head(5)"
      ],
      "execution_count": null,
      "outputs": [
        {
          "output_type": "execute_result",
          "data": {
            "text/plain": [
              "hotmail.com     1638\n",
              "yahoo.com       1616\n",
              "gmail.com       1605\n",
              "smith.com         42\n",
              "williams.com      37\n",
              "Name: Email, dtype: int64"
            ]
          },
          "metadata": {},
          "execution_count": 46
        }
      ]
    },
    {
      "cell_type": "markdown",
      "metadata": {
        "id": "DRtAuFZZeG0D"
      },
      "source": [
        "# Cheers!"
      ]
    },
    {
      "cell_type": "code",
      "source": [
        ""
      ],
      "metadata": {
        "id": "Q6PpoaxUEnV1"
      },
      "execution_count": null,
      "outputs": []
    }
  ]
}